{
 "cells": [
  {
   "cell_type": "markdown",
   "metadata": {},
   "source": [
    "## Supplementary Table 1. Comparison of targeted panels."
   ]
  },
  {
   "cell_type": "code",
   "execution_count": 15,
   "metadata": {},
   "outputs": [
    {
     "name": "stdout",
     "output_type": "stream",
     "text": [
      "ACP1 88\n",
      "ACMP 558\n",
      "SNUBH_V1 99\n",
      "SNUBH_V2 559\n",
      "TS500 523\n"
     ]
    }
   ],
   "source": [
    "import pandas as pd\n",
    "\n",
    "genes = {}\n",
    "panels = ['ACP1', 'ACMP', 'SNUBH_V1', 'SNUBH_V2', 'TS500']\n",
    "files = ['acp1.list', 'acmp.list', 'snubh-v1.list', 'snubh-v2.list', 'ts500.list']\n",
    "\n",
    "for i, file in enumerate(files):\n",
    "    n = 0\n",
    "    with open(f'./panels/{file}') as f:\n",
    "        for line in f:\n",
    "            n += 1\n",
    "            gene = line.strip()\n",
    "            if gene not in genes:\n",
    "                genes[gene] = ['X'] * 5\n",
    "            genes[gene][i] = 'O'\n",
    "    print(panels[i], n)\n",
    "\n",
    "df = pd.DataFrame(genes).T\n",
    "df.columns = panels\n",
    "df.to_csv('./outputs/panel-comparison.csv')"
   ]
  },
  {
   "cell_type": "code",
   "execution_count": null,
   "metadata": {},
   "outputs": [],
   "source": []
  }
 ],
 "metadata": {
  "kernelspec": {
   "display_name": "Python 3",
   "language": "python",
   "name": "python3"
  },
  "language_info": {
   "codemirror_mode": {
    "name": "ipython",
    "version": 3
   },
   "file_extension": ".py",
   "mimetype": "text/x-python",
   "name": "python",
   "nbconvert_exporter": "python",
   "pygments_lexer": "ipython3",
   "version": "3.9.12"
  }
 },
 "nbformat": 4,
 "nbformat_minor": 4
}
